{
 "cells": [
  {
   "cell_type": "code",
   "execution_count": 63,
   "metadata": {},
   "outputs": [],
   "source": [
    "import pandas as pd\n",
    "import numpy as np\n",
    "import seaborn as sns\n",
    "\n",
    "sns.set_style('whitegrid')"
   ]
  },
  {
   "cell_type": "code",
   "execution_count": 64,
   "metadata": {},
   "outputs": [],
   "source": [
    "#Beginning of my Simulation\n",
    "\n",
    "data = pd.read_excel (r'/Users/Evan/Desktop/psychForecast.xlsx')\n",
    "\n",
    "df = pd.DataFrame(data)\n",
    "\n",
    "num_simulations = 1000"
   ]
  },
  {
   "cell_type": "code",
   "execution_count": 65,
   "metadata": {},
   "outputs": [],
   "source": [
    "#Generates a range for market penetration\n",
    "addiction = np.arange(0.20,0.45,0.005)\n",
    "\n",
    "#Average and Standard Deviation of Addiction Market Penetration\n",
    "addiction_avg = sum(addiction) / len(addiction)\n",
    "addiction_std_dev = .1\n",
    "\n",
    "#Market Penetration Normal Distribution Generator\n",
    "addiction_marketPenetration = np.random.normal(addiction_avg,addiction_std_dev,num_simulations)\n",
    "\n",
    "#Average of Simulated Normal Distribution for Market Penetration\n",
    "addiction_Simulated_avg = sum(addiction_marketPenetration) / len(addiction_marketPenetration)\n",
    "\n",
    "#Annual Sales and Potential Market\n",
    "addiction_avg_annual_sales = 8881\n",
    "addiction_Potential_Market =  7284000\n",
    "\n",
    "#Market Size * Simulated Market Penetration Average\n",
    "Estimated_addiction_Market_Size = addiction_Simulated_avg * addiction_Potential_Market\n",
    "\n",
    "#Generates a range for Royalty Rates\n",
    "addiction_Royalty_rate_range = np.arange(0.08,0.15,0.005)\n",
    "\n",
    "#Average and Standard Deviation of Addiction Royalty Rate\n",
    "addiction_Royalty_rate_avg = sum(addiction_Royalty_rate_range) / len(addiction_Royalty_rate_range)\n",
    "addiction_Royalty_rate_avg_std_dev = .01\n",
    "\n",
    "#Royalty Rate Normal Distribution Generator\n",
    "addiction_Royalty_rate = np.random.normal(addiction_Royalty_rate_avg,addiction_Royalty_rate_avg_std_dev,num_simulations)\n",
    "\n",
    "#Average of Simulated Normal Distribution for Royalty Rate\n",
    "addiction_Royalty_rate_Simulated_avg = sum(addiction_Royalty_rate) / len(addiction_Royalty_rate)\n",
    "\n",
    "#Peak Sales derived from Market Size * Average Annual Sales\n",
    "addiction_Peak_sales = Estimated_addiction_Market_Size * addiction_avg_annual_sales\n",
    "\n",
    "#Peak Revenue derived from Peak Sales * Royalty Rate\n",
    "addiction_Peak_Annual_Revenue = addiction_Peak_sales * addiction_Royalty_rate_Simulated_avg\n",
    "\n",
    "#Formatted Forecasted Revenue\n",
    "addiction_Revenue = \"${:,.2f}\".format(addiction_Peak_Annual_Revenue)"
   ]
  },
  {
   "cell_type": "code",
   "execution_count": 66,
   "metadata": {},
   "outputs": [
    {
     "data": {
      "text/plain": [
       "'$2,325,202,812.17'"
      ]
     },
     "execution_count": 66,
     "metadata": {},
     "output_type": "execute_result"
    }
   ],
   "source": [
    "addiction_Revenue"
   ]
  },
  {
   "cell_type": "code",
   "execution_count": 67,
   "metadata": {},
   "outputs": [],
   "source": [
    "#Generates a range for market penetration\n",
    "anxiety = np.arange(0.05,0.10,0.005)\n",
    "\n",
    "#Average and Standard Deviation of Addiction Market Penetration\n",
    "anxiety_avg = sum(anxiety) / len(anxiety)\n",
    "anxiety_std_dev = .01\n",
    "\n",
    "#Market Penetration Normal Distribution Generator\n",
    "anxiety_marketPenetration = np.random.normal(anxiety_avg,anxiety_std_dev,num_simulations)\n",
    "\n",
    "#Average of Simulated Normal Distribution for Market Penetration\n",
    "anxiety_Simulated_avg = sum(anxiety_marketPenetration) / len(anxiety_marketPenetration)\n",
    "\n",
    "#Annual Sales and Potential Market\n",
    "anxiety_avg_annual_sales = 6475\n",
    "anxiety_Potential_Market = 86030000 \n",
    "\n",
    "#Market Size * Simulated Market Penetration Average\n",
    "Estimated_anxiety_Market_Size = anxiety_Simulated_avg * anxiety_Potential_Market\n",
    "\n",
    "#Generates a range for Royalty Rates\n",
    "anxiety_Royalty_rate_range = np.arange(0.08,0.15,0.005)\n",
    "\n",
    "#Average and Standard Deviation of Addiction Royalty Rate\n",
    "anxiety_Royalty_rate_avg = sum(anxiety_Royalty_rate_range) / len(anxiety_Royalty_rate_range)\n",
    "anxiety_Royalty_rate_avg_std_dev = .01\n",
    "\n",
    "#Royalty Rate Normal Distribution Generator\n",
    "anxiety_Royalty_rate = np.random.normal(anxiety_Royalty_rate_avg,anxiety_Royalty_rate_avg_std_dev,num_simulations)\n",
    "\n",
    "#Average of Simulated Normal Distribution for Royalty Rate\n",
    "anxiety_Royalty_rate_Simulated_avg = sum(anxiety_Royalty_rate) / len(anxiety_Royalty_rate)\n",
    "\n",
    "#Peak Sales derived from Market Size * Average Annual Sales\n",
    "anxiety_Peak_sales = Estimated_anxiety_Market_Size * anxiety_avg_annual_sales\n",
    "\n",
    "#Peak Revenue derived from Peak Sales * Royalty Rate\n",
    "anxiety_Peak_Annual_Revenue = anxiety_Peak_sales * anxiety_Royalty_rate_Simulated_avg\n",
    "\n",
    "#Formatted Forecasted Revenue\n",
    "anxiety_Revenue = \"${:,.2f}\".format(anxiety_Peak_Annual_Revenue)"
   ]
  },
  {
   "cell_type": "code",
   "execution_count": 68,
   "metadata": {},
   "outputs": [
    {
     "data": {
      "text/plain": [
       "'$4,539,757,954.31'"
      ]
     },
     "execution_count": 68,
     "metadata": {},
     "output_type": "execute_result"
    }
   ],
   "source": [
    "anxiety_Revenue"
   ]
  },
  {
   "cell_type": "code",
   "execution_count": 69,
   "metadata": {},
   "outputs": [],
   "source": [
    "#Generates a range for market penetration\n",
    "adhd = np.arange(0.1,0.15,0.005)\n",
    "\n",
    "#Average and Standard Deviation of Market Penetration\n",
    "adhd_avg = sum(adhd) / len(adhd)\n",
    "adhd_std_dev = .01\n",
    "\n",
    "#Market Penetration Normal Distribution Generator\n",
    "adhd_marketPenetration = np.random.normal(adhd_avg,adhd_std_dev,num_simulations)\n",
    "\n",
    "#Average of Simulated Normal Distribution for Market Penetration\n",
    "adhd_Simulated_avg = sum(adhd_marketPenetration) / len(adhd_marketPenetration)\n",
    "\n",
    "#Annual Sales and Potential Market\n",
    "adhd_avg_annual_sales = 2567\n",
    "adhd_Potential_Market =  38600000 \n",
    "\n",
    "#Market Size * Simulated Market Penetration Average\n",
    "Estimated_adhd_Market_Size = adhd_Simulated_avg * adhd_Potential_Market\n",
    "\n",
    "#Generates a range for Royalty Rates\n",
    "adhd_Royalty_rate_range = np.arange(0.08,0.15,0.005)\n",
    "\n",
    "#Average and Standard Deviation of Royalty Rate\n",
    "adhd_Royalty_rate_avg = sum(adhd_Royalty_rate_range) / len(adhd_Royalty_rate_range)\n",
    "adhd_Royalty_rate_avg_std_dev = .01\n",
    "\n",
    "#Royalty Rate Normal Distribution Generator\n",
    "adhd_Royalty_rate = np.random.normal(adhd_Royalty_rate_avg,adhd_Royalty_rate_avg_std_dev,num_simulations)\n",
    "\n",
    "#Average of Simulated Normal Distribution for Royalty Rate\n",
    "adhd_Royalty_rate_Simulated_avg = sum(adhd_Royalty_rate) / len(adhd_Royalty_rate)\n",
    "\n",
    "#Peak Sales derived from Market Size * Average Annual Sales\n",
    "adhd_Peak_sales = Estimated_adhd_Market_Size * adhd_avg_annual_sales\n",
    "\n",
    "#Peak Revenue derived from Peak Sales * Royalty Rate\n",
    "adhd_Peak_Annual_Revenue = adhd_Peak_sales * adhd_Royalty_rate_Simulated_avg\n",
    "\n",
    "#Formatted Forecasted Revenue\n",
    "adhd_Revenue = \"${:,.2f}\".format(adhd_Peak_Annual_Revenue)"
   ]
  },
  {
   "cell_type": "code",
   "execution_count": 70,
   "metadata": {},
   "outputs": [
    {
     "data": {
      "text/plain": [
       "'$1,376,381,311.16'"
      ]
     },
     "execution_count": 70,
     "metadata": {},
     "output_type": "execute_result"
    }
   ],
   "source": [
    "adhd_Revenue"
   ]
  },
  {
   "cell_type": "code",
   "execution_count": 71,
   "metadata": {},
   "outputs": [],
   "source": [
    "#Generates a range for market penetration\n",
    "LSD_neutral = np.arange(0.3,0.6,0.005)\n",
    "\n",
    "#Average and Standard Deviation of Market Penetration\n",
    "LSD_neutral_avg = sum(LSD_neutral) / len(LSD_neutral)\n",
    "LSD_neutral_std_dev = .1\n",
    "\n",
    "#Market Penetration Normal Distribution Generator\n",
    "LSD_neutral_marketPenetration = np.random.normal(LSD_neutral_avg,LSD_neutral_std_dev,num_simulations)\n",
    "\n",
    "#Average of Simulated Normal Distribution for Market Penetration\n",
    "LSD_neutral_Simulated_avg = sum(LSD_neutral_marketPenetration) / len(LSD_neutral_marketPenetration)\n",
    "\n",
    "#Annual Sales and Potential Market\n",
    "LSD_neutral_avg_annual_sales = 500\n",
    "LSD_neutral_Potential_Market =  6450000\n",
    "\n",
    "#Market Size * Simulated Market Penetration Average\n",
    "Estimated_LSD_neutral_Market_Size = LSD_neutral_Simulated_avg * LSD_neutral_Potential_Market\n",
    "\n",
    "#Generates a range for Royalty Rates\n",
    "LSD_neutral_Royalty_rate_range = np.arange(0.08,0.15,0.005)\n",
    "\n",
    "#Average and Standard Deviation of Royalty Rate\n",
    "LSD_neutral_Royalty_rate_avg = sum(LSD_neutral_Royalty_rate_range) / len(LSD_neutral_Royalty_rate_range)\n",
    "LSD_neutral_Royalty_rate_avg_std_dev = .01\n",
    "\n",
    "#Royalty Rate Normal Distribution Generator\n",
    "LSD_neutral_Royalty_rate = np.random.normal(LSD_neutral_Royalty_rate_avg,LSD_neutral_Royalty_rate_avg_std_dev,num_simulations)\n",
    "\n",
    "#Average of Simulated Normal Distribution for Royalty Rate\n",
    "LSD_neutral_Royalty_rate_Simulated_avg = sum(LSD_neutral_Royalty_rate) / len(LSD_neutral_Royalty_rate)\n",
    "\n",
    "#Peak Sales derived from Market Size * Average Annual Sales\n",
    "LSD_neutral_Peak_sales = Estimated_LSD_neutral_Market_Size * LSD_neutral_avg_annual_sales\n",
    "\n",
    "#Peak Revenue derived from Peak Sales * Royalty Rate\n",
    "LSD_neutral_Peak_Annual_Revenue = LSD_neutral_Peak_sales * LSD_neutral_Royalty_rate_Simulated_avg\n",
    "\n",
    "#Formatted Forecasted Revenue\n",
    "LSD_neutral_Revenue = \"${:,.2f}\".format(LSD_neutral_Peak_Annual_Revenue)"
   ]
  },
  {
   "cell_type": "code",
   "execution_count": 72,
   "metadata": {},
   "outputs": [
    {
     "data": {
      "text/plain": [
       "'$162,669,310.26'"
      ]
     },
     "execution_count": 72,
     "metadata": {},
     "output_type": "execute_result"
    }
   ],
   "source": [
    "LSD_neutral_Revenue"
   ]
  },
  {
   "cell_type": "code",
   "execution_count": 73,
   "metadata": {},
   "outputs": [
    {
     "data": {
      "text/plain": [
       "<matplotlib.axes._subplots.AxesSubplot at 0x1a1b0d62e8>"
      ]
     },
     "execution_count": 73,
     "metadata": {},
     "output_type": "execute_result"
    },
    {
     "data": {
      "image/png": "[encoded data removed]",
      "text/plain": [
       "<Figure size 432x288 with 1 Axes>"
      ]
     },
     "metadata": {},
     "output_type": "display_data"
    }
   ],
   "source": [
    "#Example of Normal Distribution for Market Penetration\n",
    "sns.distplot(LSD_neutral_marketPenetration)"
   ]
  },
  {
   "cell_type": "code",
   "execution_count": 74,
   "metadata": {},
   "outputs": [
    {
     "data": {
      "text/plain": [
       "<matplotlib.axes._subplots.AxesSubplot at 0x1a1af86198>"
      ]
     },
     "execution_count": 74,
     "metadata": {},
     "output_type": "execute_result"
    },
    {
     "data": {
      "image/png": "[encoded data removed]",
      "text/plain": [
       "<Figure size 432x288 with 1 Axes>"
      ]
     },
     "metadata": {},
     "output_type": "display_data"
    }
   ],
   "source": [
    "#Distributions of Market Penetrations\n",
    "sns.distplot(addiction_marketPenetration)\n",
    "sns.distplot(anxiety_marketPenetration)\n",
    "sns.distplot(adhd_marketPenetration)\n",
    "sns.distplot(LSD_neutral_marketPenetration)"
   ]
  },
  {
   "cell_type": "code",
   "execution_count": 75,
   "metadata": {},
   "outputs": [
    {
     "data": {
      "text/plain": [
       "<matplotlib.axes._subplots.AxesSubplot at 0x1a1b2fe048>"
      ]
     },
     "execution_count": 75,
     "metadata": {},
     "output_type": "execute_result"
    },
    {
     "data": {
      "image/png": "[encoded data removed]",
      "text/plain": [
       "<Figure size 432x288 with 1 Axes>"
      ]
     },
     "metadata": {},
     "output_type": "display_data"
    }
   ],
   "source": [
    "sns.distplot(addiction_Royalty_rate)\n",
    "sns.distplot(anxiety_Royalty_rate)\n",
    "sns.distplot(adhd_Royalty_rate)\n",
    "sns.distplot(LSD_neutral_Royalty_rate)"
   ]
  },
  {
   "cell_type": "code",
   "execution_count": 76,
   "metadata": {},
   "outputs": [
    {
     "data": {
      "text/plain": [
       "2328548.0"
      ]
     },
     "execution_count": 76,
     "metadata": {},
     "output_type": "execute_result"
    }
   ],
   "source": [
    "Estimated_addiction_Market_Size.round()"
   ]
  },
  {
   "cell_type": "code",
   "execution_count": 77,
   "metadata": {},
   "outputs": [
    {
     "data": {
      "text/plain": [
       "6226548.0"
      ]
     },
     "execution_count": 77,
     "metadata": {},
     "output_type": "execute_result"
    }
   ],
   "source": [
    "Estimated_anxiety_Market_Size.round()"
   ]
  },
  {
   "cell_type": "code",
   "execution_count": 78,
   "metadata": {},
   "outputs": [
    {
     "data": {
      "text/plain": [
       "4726198.0"
      ]
     },
     "execution_count": 78,
     "metadata": {},
     "output_type": "execute_result"
    }
   ],
   "source": [
    "Estimated_adhd_Market_Size.round()"
   ]
  },
  {
   "cell_type": "code",
   "execution_count": 79,
   "metadata": {
    "scrolled": true
   },
   "outputs": [
    {
     "data": {
      "text/plain": [
       "2894534.0"
      ]
     },
     "execution_count": 79,
     "metadata": {},
     "output_type": "execute_result"
    }
   ],
   "source": [
    "Estimated_LSD_neutral_Market_Size.round()"
   ]
  }
 ],
 "metadata": {
  "kernelspec": {
   "display_name": "Python 3",
   "language": "python",
   "name": "python3"
  },
  "language_info": {
   "codemirror_mode": {
    "name": "ipython",
    "version": 3
   },
   "file_extension": ".py",
   "mimetype": "text/x-python",
   "name": "python",
   "nbconvert_exporter": "python",
   "pygments_lexer": "ipython3",
   "version": "3.7.3"
  }
 },
 "nbformat": 4,
 "nbformat_minor": 2
}
